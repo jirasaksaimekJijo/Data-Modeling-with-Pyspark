{
 "cells": [
  {
   "cell_type": "code",
   "execution_count": 1,
   "metadata": {},
   "outputs": [],
   "source": [
    "import pyspark\n",
    "from pyspark.sql import SparkSession\n",
    "spark = SparkSession.builder.appName(\"MyPySparkApp\").getOrCreate()"
   ]
  },
  {
   "cell_type": "code",
   "execution_count": 8,
   "metadata": {},
   "outputs": [],
   "source": [
    "#read file csv\n",
    "df = spark.read.csv(\"F:/SWU/1-2 DS525 DATA WAREHOUSE/Week4-Data-Warehouse-with-Pyspark/username.csv\", header=True, inferSchema=True)\n",
    "\n",
    "#read file json\n",
    "df = spark.read.json(\"F:/SWU/1-2 DS525 DATA WAREHOUSE/Week4-Data-Warehouse-with-Pyspark/zipcodes.json\", inferSchema=True)\n",
    "\n",
    "#read find parquet\n",
    "df = spark.read.parquet(\"F:/SWU/1-2 DS525 DATA WAREHOUSE/Week4-Data-Warehouse-with-Pyspark/MT cars.parquet\")"
   ]
  }
 ],
 "metadata": {
  "kernelspec": {
   "display_name": "Python 3 (ipykernel)",
   "language": "python",
   "name": "python3"
  },
  "language_info": {
   "codemirror_mode": {
    "name": "ipython",
    "version": 3
   },
   "file_extension": ".py",
   "mimetype": "text/x-python",
   "name": "python",
   "nbconvert_exporter": "python",
   "pygments_lexer": "ipython3",
   "version": "3.11.6"
  }
 },
 "nbformat": 4,
 "nbformat_minor": 2
}
